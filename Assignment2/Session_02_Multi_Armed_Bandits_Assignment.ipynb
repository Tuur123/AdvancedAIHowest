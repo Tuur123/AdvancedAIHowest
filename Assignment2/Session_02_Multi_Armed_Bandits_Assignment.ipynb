{
 "cells": [
  {
   "cell_type": "markdown",
   "metadata": {},
   "source": [
    "# Session 2 - Multi-Armed Bandits - Assignment\n",
    "\n",
    "In this assignment you will apply different multi-armed bandit algorithms in order to discover the bandit with highest reward.\n",
    "We'll start with deterministic bandits, meaning that the bandit rewards are not subject to any underlying stochastic process.\n",
    "Next we'll focuss on stochastic bandits where the reward of a bandit is the result of a stochastic process and therefore making the discovery of the best bandit much harder. \n",
    "Finally we will applay the MAB strategies to solve practical real-life problems."
   ]
  },
  {
   "cell_type": "code",
   "execution_count": 1,
   "metadata": {},
   "outputs": [],
   "source": [
    "%matplotlib inline\n",
    "import numpy as np\n",
    "import pandas as pd\n",
    "import matplotlib.pyplot as plt\n",
    "import seaborn as sns"
   ]
  },
  {
   "cell_type": "markdown",
   "metadata": {},
   "source": [
    "## 1. Deterministic bandits\n",
    "Assume you have to play 5 bandits with fixed rewards. These rewards are hidden and unknown when you start playing. \n",
    "You can play the bandits 100 times. Find out how you can maximize your total reward over these 100 trials.\n",
    "\n",
    "Use the BanditEnv_1 environment for this experiment."
   ]
  },
  {
   "cell_type": "code",
   "execution_count": 39,
   "metadata": {},
   "outputs": [],
   "source": [
    "##### Deterministic Bandit Environment\n",
    "\n",
    "class BanditEnv_1:\n",
    "    def __init__(self):\n",
    "        self.rewards = [-10,6,8,0,-2]\n",
    "        \n",
    "    def reset(self):\n",
    "        self.rewards = [-10,6,8,0,-2]\n",
    "        \n",
    "    def step(self,action):\n",
    "        self.action = action\n",
    "        return self.rewards[self.action]"
   ]
  },
  {
   "cell_type": "code",
   "execution_count": 41,
   "metadata": {},
   "outputs": [],
   "source": [
    "# Create an Env1 object\n",
    "Env1 = BanditEnv_1()\n",
    "Env1.reset()"
   ]
  },
  {
   "cell_type": "code",
   "execution_count": 4,
   "metadata": {},
   "outputs": [
    {
     "name": "stdout",
     "output_type": "stream",
     "text": [
      "reward = -10\n"
     ]
    }
   ],
   "source": [
    "# Taken an action. For example choose bandit 0\n",
    "reward = Env1.step(0)\n",
    "print('reward =', reward)"
   ]
  },
  {
   "cell_type": "markdown",
   "metadata": {},
   "source": [
    "If you know in advance that the bandits have fixed rewards, the best strategy will be to play them all once and then pick the one with the highest reward (greedy action)."
   ]
  },
  {
   "cell_type": "code",
   "execution_count": 5,
   "metadata": {},
   "outputs": [
    {
     "name": "stdout",
     "output_type": "stream",
     "text": [
      "[-10, 6, 8, 0, -2]\n",
      "Bandit with the highest reward is bandit 2 with a reward of 8\n",
      "The total reward =  710\n"
     ]
    },
    {
     "data": {
      "text/plain": [
       "[<matplotlib.lines.Line2D at 0x7fd53e84c400>]"
      ]
     },
     "execution_count": 5,
     "metadata": {},
     "output_type": "execute_result"
    },
    {
     "data": {
      "image/png": "[encoded data removed]",
      "text/plain": [
       "<Figure size 432x288 with 1 Axes>"
      ]
     },
     "metadata": {
      "needs_background": "light"
     },
     "output_type": "display_data"
    }
   ],
   "source": [
    "rewards = []\n",
    "totalReward = 0\n",
    "for action in range(5):\n",
    "    rewards.append(Env1.step(action))\n",
    "    totalReward = totalReward + reward\n",
    "    \n",
    "print(rewards)\n",
    "bestAction = np.argmax(rewards)\n",
    "print('Bandit with the highest reward is bandit',bestAction, 'with a reward of',rewards[bestAction])\n",
    "\n",
    "for i in range(100 - 5):\n",
    "    rewards.append(Env1.step(bestAction))\n",
    "    totalReward = totalReward + Env1.step(bestAction)\n",
    "\n",
    "print('The total reward = ', totalReward)\n",
    "\n",
    "# Plot the rewards as a funtion of the number of trials\n",
    "plt.plot(rewards)"
   ]
  },
  {
   "cell_type": "markdown",
   "metadata": {},
   "source": [
    "##### 2. Stochastic bandits\n",
    "\n",
    "In the case of stochastic bandits, the reward is sampled from an initially unknown distribution. Our task is to discover the expected reward of each of the bandits as quickly (and reliably) as possible. \n",
    "As an example, assume that the reward of a bandit comes from a normal distribution with mean = 10 and standard deviation of 5. This means that in 68% procent of the trials this bandit will return a reward between 10-5 = 5 and 10+5 = 15. If you play this bandit multiple times, you can expect that the average reward will converge to 10.\n",
    "\n",
    "Use BanditEnv_2 for this exercise. All 5 bandits have rewards coming from normal distributions with different means, but with the same standard deviation (std = 1).\n",
    "You can play this bandit 200 times. Try to come up with a good strategy to maximize the total reward over these 200 trials."
   ]
  },
  {
   "cell_type": "code",
   "execution_count": 37,
   "metadata": {},
   "outputs": [],
   "source": [
    "class BanditEnv_2:\n",
    "    def __init__(self):\n",
    "        self.means = [-10,6,8,0,-2]\n",
    "        self.std = 1\n",
    "        \n",
    "    def reset(self):\n",
    "        self.means = [-10,6,8,0,-2]\n",
    "        self.std = 1\n",
    "\n",
    "    def step(self,action):\n",
    "        self.action = action\n",
    "        return np.random.normal(self.means[self.action], self.std, 1)[0]"
   ]
  },
  {
   "cell_type": "code",
   "execution_count": 38,
   "metadata": {},
   "outputs": [
    {
     "name": "stdout",
     "output_type": "stream",
     "text": [
      "[-10, 6, 8, 0, -2]\n"
     ]
    }
   ],
   "source": [
    "# Create an Env2 object\n",
    "Env2 = BanditEnv_2()\n",
    "Env2.reset()\n",
    "print(Env2.means)"
   ]
  },
  {
   "cell_type": "markdown",
   "metadata": {},
   "source": [
    "### 2.1 Epsilon Greedy\n",
    "\n",
    "1. Implement the epsilon greedy algorithm to play the Env2 bandits. \n",
    "2. Show the influence of epsilon parameter. Do this by plotting the reward history for different values of epsilon. Also visualize how often a bandit was chosen.\n",
    "3. Find the optimal epsilon value giving you maximum total reward.\n",
    "4. Use epsilon decay. This means that you gradually decrease the value of epsilon as the number of trials increases. Use the following rule: $\\epsilon(t+1) = \\eta \\times \\epsilon(t) $ where $0< \\eta < 1$\n",
    "5. Now test for different values of the standard deviation. What if the standard deviation becomes larger?"
   ]
  },
  {
   "cell_type": "code",
   "execution_count": 1,
   "metadata": {},
   "outputs": [],
   "source": [
    "# epsilon greedy\n",
    "\n"
   ]
  },
  {
   "cell_type": "markdown",
   "metadata": {},
   "source": [
    "### 2.2 Optimistic Initial Value\n",
    "\n",
    "Continue to work with the Env2 environment. \n",
    "Implement the Optimistic Initial Value algorithm. Start by initializing the estimated bandit means to a high non-zero value and use a greedy approach. \n",
    "After each play the estimated bandit mean will come closer to the true bandit mean.\n",
    "\n",
    "1. Implement the optimistic initial value algorithm to play the Env2 bandits. Check the final values of the estimated means.\n",
    "2. Show the initialization. What happens if you initialize the estimated means to larger values? \n",
    "3. Now test for different values of the standard deviation. What if the standard deviation becomes larger?\n",
    "4. Compare the optimistic initial value approach to the epsilon greedy approach. Plot the reward history of both in one graph.\n",
    "\n"
   ]
  },
  {
   "cell_type": "code",
   "execution_count": 2,
   "metadata": {},
   "outputs": [],
   "source": [
    "# Optimistic initial value\n",
    "\n",
    "\n"
   ]
  },
  {
   "cell_type": "markdown",
   "metadata": {},
   "source": [
    "### 2.3 Upper Confidence Bound\n",
    "\n",
    "Continue to work with the Env2 environment and implement the Upper Confidence Bound algorithm. \n",
    "Select the action based on the following rule:\n",
    "\n",
    "$A_t = argmax_a \\left( MeanRewards + c  \\sqrt{\\frac{\\ln{t}}{N_a(t)}}  \\right)$\n",
    "\n",
    "1. Implement the upper confidence bound algorithm to play the Env2 bandits. Check the final values of the estimated means.\n",
    "2. Change the parameter c? Explain the influence of c. \n",
    "3. Now test for different values of the standard deviation. What if the standard deviation becomes larger?\n",
    "4. Compare the upper confidence bound approach to the epsilon greedy approach and opimistic initial value. Plot the reward histories of the algorithms in one graph.\n"
   ]
  },
  {
   "cell_type": "code",
   "execution_count": 3,
   "metadata": {},
   "outputs": [],
   "source": [
    "# Upper Confidence Bound\n",
    "\n"
   ]
  },
  {
   "cell_type": "markdown",
   "metadata": {},
   "source": [
    "### EXTRA: non-stationary bandits\n",
    "\n",
    "In the following you have to deal with non-stationary bandits. This means that the expected reward is not stationary and will change over time. \n",
    "in the BanditEnv_3, the initial expected rewards will change with a constant after each action.\n",
    "\n",
    "Figure out the best strategy to optimize the total reward after 200 actions."
   ]
  },
  {
   "cell_type": "code",
   "execution_count": 43,
   "metadata": {},
   "outputs": [],
   "source": [
    "class BanditEnv_3:\n",
    "    def __init__(self):\n",
    "        self.means = np.array([[-10,6,8,0,-2]])\n",
    "        self.std = 1\n",
    "    def reset(self):\n",
    "        self.means = np.array([[-10,6,8,0,-2]])\n",
    "        \n",
    "    def step(self,action):\n",
    "        self.action = action\n",
    "        self.means = self.means + np.array([[0.15,-0.1,-0.15,0.05,0.1]])\n",
    "        return np.random.normal(self.means[0,self.action], self.std, 1)[0]"
   ]
  },
  {
   "cell_type": "code",
   "execution_count": 45,
   "metadata": {},
   "outputs": [],
   "source": [
    "# create an env3 environment\n",
    "env3 = BanditEnv_3()\n",
    "env3.reset()\n",
    "\n",
    "# solve the environment (for 200 steps)\n"
   ]
  },
  {
   "cell_type": "markdown",
   "metadata": {},
   "source": [
    "## 3. Server latencies\n",
    "\n",
    "You have to make 1000 webpage requests. There are 25 servers with different latencies to choose from. \n",
    "Your task is to come up with a clever strategy to reduce the cumulative latency of these 1000 webpage requests.\n",
    "The file 'latencies.csv' contains these 1000 different request. \n",
    "It's important to know that in a practical situation you would not have access to this data and requests will be made sequentially.\n",
    "Use a multi-armed bandit to find the best strategy to minimize the total latency over these 1000 requests. Again, it's not allowed to process and statistically analyse the data in advance.\n",
    "\n",
    "1. Try and optimize different types of bandits: epsilon-greedy, optimistic initial value, upper confidence bound. \n",
    "2. Compare these bandits in terms of total cumulated reward (or regret). Make a graph to visualize this.\n",
    "3. Make graphs showing how often each bandit was chosen.\n",
    "\n",
    "\n",
    "EXTRA: program a bayesian badit to solve the latency problem."
   ]
  },
  {
   "cell_type": "code",
   "execution_count": 6,
   "metadata": {},
   "outputs": [
    {
     "data": {
      "text/html": [
       "<div>\n",
       "<style scoped>\n",
       "    .dataframe tbody tr th:only-of-type {\n",
       "        vertical-align: middle;\n",
       "    }\n",
       "\n",
       "    .dataframe tbody tr th {\n",
       "        vertical-align: top;\n",
       "    }\n",
       "\n",
       "    .dataframe thead th {\n",
       "        text-align: right;\n",
       "    }\n",
       "</style>\n",
       "<table border=\"1\" class=\"dataframe\">\n",
       "  <thead>\n",
       "    <tr style=\"text-align: right;\">\n",
       "      <th></th>\n",
       "      <th>Server_1</th>\n",
       "      <th>Server_2</th>\n",
       "      <th>Server_3</th>\n",
       "      <th>Server_4</th>\n",
       "      <th>Server_5</th>\n",
       "      <th>Server_6</th>\n",
       "      <th>Server_7</th>\n",
       "      <th>Server_8</th>\n",
       "      <th>Server_9</th>\n",
       "      <th>Server_10</th>\n",
       "      <th>...</th>\n",
       "      <th>Server_16</th>\n",
       "      <th>Server_17</th>\n",
       "      <th>Server_18</th>\n",
       "      <th>Server_19</th>\n",
       "      <th>Server_20</th>\n",
       "      <th>Server_21</th>\n",
       "      <th>Server_22</th>\n",
       "      <th>Server_23</th>\n",
       "      <th>Server_24</th>\n",
       "      <th>Server_25</th>\n",
       "    </tr>\n",
       "  </thead>\n",
       "  <tbody>\n",
       "    <tr>\n",
       "      <th>995</th>\n",
       "      <td>265</td>\n",
       "      <td>1080</td>\n",
       "      <td>136</td>\n",
       "      <td>25</td>\n",
       "      <td>395</td>\n",
       "      <td>1350</td>\n",
       "      <td>105</td>\n",
       "      <td>113</td>\n",
       "      <td>85</td>\n",
       "      <td>471</td>\n",
       "      <td>...</td>\n",
       "      <td>414</td>\n",
       "      <td>129</td>\n",
       "      <td>410</td>\n",
       "      <td>176</td>\n",
       "      <td>589</td>\n",
       "      <td>92</td>\n",
       "      <td>56</td>\n",
       "      <td>1298</td>\n",
       "      <td>234</td>\n",
       "      <td>2603</td>\n",
       "    </tr>\n",
       "    <tr>\n",
       "      <th>996</th>\n",
       "      <td>473</td>\n",
       "      <td>6306</td>\n",
       "      <td>84</td>\n",
       "      <td>121</td>\n",
       "      <td>392</td>\n",
       "      <td>33</td>\n",
       "      <td>103</td>\n",
       "      <td>97</td>\n",
       "      <td>876</td>\n",
       "      <td>883</td>\n",
       "      <td>...</td>\n",
       "      <td>451</td>\n",
       "      <td>129</td>\n",
       "      <td>412</td>\n",
       "      <td>245</td>\n",
       "      <td>1113</td>\n",
       "      <td>132</td>\n",
       "      <td>62</td>\n",
       "      <td>11429</td>\n",
       "      <td>305</td>\n",
       "      <td>2264</td>\n",
       "    </tr>\n",
       "    <tr>\n",
       "      <th>997</th>\n",
       "      <td>269</td>\n",
       "      <td>1064</td>\n",
       "      <td>83</td>\n",
       "      <td>25</td>\n",
       "      <td>399</td>\n",
       "      <td>33</td>\n",
       "      <td>104</td>\n",
       "      <td>99</td>\n",
       "      <td>615</td>\n",
       "      <td>639</td>\n",
       "      <td>...</td>\n",
       "      <td>417</td>\n",
       "      <td>132</td>\n",
       "      <td>561</td>\n",
       "      <td>143</td>\n",
       "      <td>652</td>\n",
       "      <td>101</td>\n",
       "      <td>56</td>\n",
       "      <td>953</td>\n",
       "      <td>232</td>\n",
       "      <td>2293</td>\n",
       "    </tr>\n",
       "    <tr>\n",
       "      <th>998</th>\n",
       "      <td>270</td>\n",
       "      <td>1071</td>\n",
       "      <td>84</td>\n",
       "      <td>24</td>\n",
       "      <td>393</td>\n",
       "      <td>33</td>\n",
       "      <td>120</td>\n",
       "      <td>118</td>\n",
       "      <td>298</td>\n",
       "      <td>755</td>\n",
       "      <td>...</td>\n",
       "      <td>415</td>\n",
       "      <td>129</td>\n",
       "      <td>327</td>\n",
       "      <td>871</td>\n",
       "      <td>670</td>\n",
       "      <td>109</td>\n",
       "      <td>60</td>\n",
       "      <td>954</td>\n",
       "      <td>232</td>\n",
       "      <td>2251</td>\n",
       "    </tr>\n",
       "    <tr>\n",
       "      <th>999</th>\n",
       "      <td>296</td>\n",
       "      <td>1065</td>\n",
       "      <td>84</td>\n",
       "      <td>25</td>\n",
       "      <td>395</td>\n",
       "      <td>34</td>\n",
       "      <td>104</td>\n",
       "      <td>111</td>\n",
       "      <td>83</td>\n",
       "      <td>751</td>\n",
       "      <td>...</td>\n",
       "      <td>413</td>\n",
       "      <td>130</td>\n",
       "      <td>305</td>\n",
       "      <td>122</td>\n",
       "      <td>763</td>\n",
       "      <td>102</td>\n",
       "      <td>74</td>\n",
       "      <td>1640</td>\n",
       "      <td>352</td>\n",
       "      <td>2530</td>\n",
       "    </tr>\n",
       "  </tbody>\n",
       "</table>\n",
       "<p>5 rows × 25 columns</p>\n",
       "</div>"
      ],
      "text/plain": [
       "     Server_1  Server_2  Server_3  Server_4  Server_5   Server_6  Server_7  \\\n",
       "995       265      1080       136        25       395       1350       105   \n",
       "996       473      6306        84       121       392         33       103   \n",
       "997       269      1064        83        25       399         33       104   \n",
       "998       270      1071        84        24       393         33       120   \n",
       "999       296      1065        84        25       395         34       104   \n",
       "\n",
       "     Server_8  Server_9  Server_10  ...  Server_16  Server_17  Server_18  \\\n",
       "995       113        85        471  ...        414        129        410   \n",
       "996        97       876        883  ...        451        129        412   \n",
       "997        99       615        639  ...        417        132        561   \n",
       "998       118       298        755  ...        415        129        327   \n",
       "999       111        83        751  ...        413        130        305   \n",
       "\n",
       "     Server_19  Server_20  Server_21  Server_22  Server_23  Server_24  \\\n",
       "995        176        589         92         56       1298        234   \n",
       "996        245       1113        132         62      11429        305   \n",
       "997        143        652        101         56        953        232   \n",
       "998        871        670        109         60        954        232   \n",
       "999        122        763        102         74       1640        352   \n",
       "\n",
       "     Server_25  \n",
       "995       2603  \n",
       "996       2264  \n",
       "997       2293  \n",
       "998       2251  \n",
       "999       2530  \n",
       "\n",
       "[5 rows x 25 columns]"
      ]
     },
     "execution_count": 6,
     "metadata": {},
     "output_type": "execute_result"
    }
   ],
   "source": [
    "dataset = pd.read_csv('latencies.csv')\n",
    "dataset.tail()"
   ]
  },
  {
   "cell_type": "code",
   "execution_count": 7,
   "metadata": {},
   "outputs": [],
   "source": [
    "# Server latencies\n",
    "\n"
   ]
  }
 ],
 "metadata": {
  "kernelspec": {
   "display_name": "Python 3 (ipykernel)",
   "language": "python",
   "name": "python3"
  },
  "language_info": {
   "codemirror_mode": {
    "name": "ipython",
    "version": 3
   },
   "file_extension": ".py",
   "mimetype": "text/x-python",
   "name": "python",
   "nbconvert_exporter": "python",
   "pygments_lexer": "ipython3",
   "version": "3.8.11"
  }
 },
 "nbformat": 4,
 "nbformat_minor": 4
}
